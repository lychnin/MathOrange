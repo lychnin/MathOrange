{
 "cells": [
  {
   "cell_type": "code",
   "execution_count": 115,
   "metadata": {},
   "outputs": [],
   "source": [
    "graph = {\n",
    "    \"s\": [\"a\", \"b\"],\n",
    "    \"a\": [\"c\"],\n",
    "    \"b\": [\"c\", 'd'],\n",
    "    \"c\": [],\n",
    "    \"d\": [\"f\"],\n",
    "    \"f\": []\n",
    "}\n",
    "\n",
    "\n",
    "def searchSP(path, begin, end,length=0):\n",
    "    if end in path[begin]:\n",
    "        return None\n",
    "    else:\n",
    "        searchSP(path,path[begin][0], end,length+1)"
   ]
  },
  {
   "cell_type": "code",
   "execution_count": 116,
   "metadata": {},
   "outputs": [
    {
     "name": "stdout",
     "output_type": "stream",
     "text": [
      "a\n",
      "c\n",
      "b\n",
      "c\n",
      "d\n",
      "None\n"
     ]
    }
   ],
   "source": [
    "if __name__ == \"__main__\":\n",
    "    a=searchSP(graph, \"s\", \"f\")\n",
    "    print(a)"
   ]
  },
  {
   "cell_type": "code",
   "execution_count": 25,
   "metadata": {},
   "outputs": [
    {
     "name": "stdout",
     "output_type": "stream",
     "text": [
      "success\n",
      "a\n",
      "b\n"
     ]
    },
    {
     "data": {
      "text/plain": [
       "'a'"
      ]
     },
     "execution_count": 25,
     "metadata": {},
     "output_type": "execute_result"
    }
   ],
   "source": [
    "path=graph\n",
    "begin=\"s\"\n",
    "end=\"a\"\n",
    "if end in path[begin]:\n",
    "    print(\"success\")\n",
    "for i in path[begin]:\n",
    "    print(i)\n",
    "path[begin][0]"
   ]
  },
  {
   "cell_type": "code",
   "execution_count": 65,
   "metadata": {},
   "outputs": [
    {
     "name": "stdout",
     "output_type": "stream",
     "text": [
      "over\n",
      "4\n"
     ]
    }
   ],
   "source": [
    "def s(count,pc=0):\n",
    "    if len(count)==0:\n",
    "        print(\"over\")\n",
    "        print(pc)\n",
    "    else:\n",
    "        count.pop()\n",
    "        s(count,pc+1)\n",
    "        return length\n",
    "\n",
    "if __name__==\"__main__\":\n",
    "    count=[1,2,3,4]\n",
    "    s(count)"
   ]
  },
  {
   "cell_type": "code",
   "execution_count": 60,
   "metadata": {},
   "outputs": [
    {
     "name": "stdout",
     "output_type": "stream",
     "text": [
      "0\n"
     ]
    }
   ],
   "source": []
  }
 ],
 "metadata": {
  "kernelspec": {
   "display_name": "class_face",
   "language": "python",
   "name": "python3"
  },
  "language_info": {
   "codemirror_mode": {
    "name": "ipython",
    "version": 3
   },
   "file_extension": ".py",
   "mimetype": "text/x-python",
   "name": "python",
   "nbconvert_exporter": "python",
   "pygments_lexer": "ipython3",
   "version": "3.7.7"
  },
  "orig_nbformat": 4
 },
 "nbformat": 4,
 "nbformat_minor": 2
}
