{
 "cells": [
  {
   "cell_type": "code",
   "execution_count": 25,
   "metadata": {},
   "outputs": [
    {
     "name": "stdout",
     "output_type": "stream",
     "text": [
      "tensor([ 0,  1,  2,  3,  4,  5,  6,  7,  8,  9, 10, 11])\n",
      "torch.Size([12])\n",
      "torch.Size([12])\n",
      "12\n",
      "tensor([[ 0,  1,  2,  3],\n",
      "        [ 4,  5,  6,  7],\n",
      "        [ 8,  9, 10, 11]])\n",
      "tensor([[ 0,  1,  2],\n",
      "        [ 3,  4,  5],\n",
      "        [ 6,  7,  8],\n",
      "        [ 9, 10, 11]])\n",
      "tensor([[[0., 0.],\n",
      "         [0., 0.]],\n",
      "\n",
      "        [[0., 0.],\n",
      "         [0., 0.]]])\n",
      "tensor([[[1., 1., 1.],\n",
      "         [1., 1., 1.]],\n",
      "\n",
      "        [[1., 1., 1.],\n",
      "         [1., 1., 1.]]])\n",
      "tensor([[ 0.2806,  0.1453, -0.4248,  1.3734],\n",
      "        [ 0.4305, -0.8265,  0.7748, -0.1360],\n",
      "        [-0.5326,  1.0085,  1.4954, -1.9555]])\n",
      "tensor([[2, 1, 4, 3],\n",
      "        [1, 2, 3, 4],\n",
      "        [4, 3, 2, 1]])\n"
     ]
    }
   ],
   "source": [
    "import torch\n",
    "x=torch.arange(12)\n",
    "print(x)\n",
    "print(x.shape)\n",
    "print(x.size())\n",
    "# 此处因为是向量，所以shape与size相同\n",
    "# 获取张量元素的个数\n",
    "print(x.numel())\n",
    "# 改变张量的形状而不改变元素数量与元素值，可以用reshape\n",
    "print(x.reshape(3,4))\n",
    "# 我们可以只传入高度或宽度，在pyTorch中，另一个可以自动被计算出来\n",
    "print(x.reshape(4,-1))\n",
    "# 全0\n",
    "print(torch.zeros((2,2,2)))\n",
    "# 全1\n",
    "print(torch.ones((2,2,3)))\n",
    "# 随机初始化，高斯分布随机采样\n",
    "print(torch.randn(3,4))\n",
    "# 提供列表来转化为tensor\n",
    "print(torch.tensor([[2,1,4,3],[1,2,3,4],[4,3,2,1]]))"
   ]
  },
  {
   "cell_type": "code",
   "execution_count": 26,
   "metadata": {},
   "outputs": [
    {
     "name": "stdout",
     "output_type": "stream",
     "text": [
      "tensor([ 3.,  4.,  6., 10.])\n",
      "tensor([-1.,  0.,  2.,  6.])\n",
      "tensor([0.5000, 1.0000, 2.0000, 4.0000])\n",
      "tensor([ 2.,  4.,  8., 16.])\n"
     ]
    }
   ],
   "source": [
    "x=torch.tensor([1.0,2,4,8])\n",
    "y=torch.tensor([2,2,2,2])\n",
    "# 常见的标准量运算符都可以升级为按元素运算\n",
    "print(x+y)\n",
    "print(x-y)\n",
    "print(x/y)\n",
    "print(x*y)"
   ]
  },
  {
   "cell_type": "code",
   "execution_count": 27,
   "metadata": {},
   "outputs": [
    {
     "name": "stdout",
     "output_type": "stream",
     "text": [
      "tensor([2.7183e+00, 7.3891e+00, 5.4598e+01, 2.9810e+03])\n"
     ]
    }
   ],
   "source": [
    "# 按元素运算可以应用更多的运算，比如求幂运算\n",
    "print(torch.exp(x))"
   ]
  },
  {
   "cell_type": "code",
   "execution_count": 29,
   "metadata": {},
   "outputs": [
    {
     "name": "stdout",
     "output_type": "stream",
     "text": [
      "tensor([[ 0,  1,  2,  3],\n",
      "        [ 4,  5,  6,  7],\n",
      "        [ 8,  9, 10, 11],\n",
      "        [ 2,  1,  4,  3],\n",
      "        [ 5,  6,  4,  8],\n",
      "        [ 8,  9,  6,  3]])\n",
      "tensor([[ 0,  1,  2,  3,  2,  1,  4,  3],\n",
      "        [ 4,  5,  6,  7,  5,  6,  4,  8],\n",
      "        [ 8,  9, 10, 11,  8,  9,  6,  3]])\n"
     ]
    }
   ],
   "source": [
    "x=torch.arange(12).reshape(3,4)\n",
    "y=torch.tensor([[2,1,4,3],[5,6,4,8],[8,9,6,3]])\n",
    "print(torch.cat((x,y),dim=0))\n",
    "print(torch.cat((x,y),dim=1))"
   ]
  },
  {
   "cell_type": "code",
   "execution_count": 31,
   "metadata": {},
   "outputs": [
    {
     "data": {
      "text/plain": [
       "tensor(66)"
      ]
     },
     "execution_count": 31,
     "metadata": {},
     "output_type": "execute_result"
    }
   ],
   "source": [
    "x.sum()"
   ]
  },
  {
   "cell_type": "code",
   "execution_count": 35,
   "metadata": {},
   "outputs": [
    {
     "name": "stdout",
     "output_type": "stream",
     "text": [
      "torch.Size([3, 1])\n",
      "tensor([[0, 1]])\n",
      "torch.Size([3, 1])\n"
     ]
    },
    {
     "data": {
      "text/plain": [
       "tensor([[0, 1],\n",
       "        [1, 2],\n",
       "        [2, 3]])"
      ]
     },
     "execution_count": 35,
     "metadata": {},
     "output_type": "execute_result"
    }
   ],
   "source": [
    "a=torch.arange(3).reshape((3,1))\n",
    "b=torch.arange(2).reshape((1,2))\n",
    "c = torch.arange(3).reshape(3, 1)\n",
    "print(a.shape)\n",
    "print(b)\n",
    "print(c.shape)\n",
    "a+b"
   ]
  },
  {
   "cell_type": "code",
   "execution_count": 41,
   "metadata": {},
   "outputs": [
    {
     "name": "stdout",
     "output_type": "stream",
     "text": [
      "tensor([[ 0,  1,  2,  3],\n",
      "        [ 4,  5,  6,  7],\n",
      "        [ 8,  9, 10, 11]])\n",
      "tensor([ 8,  9, 10, 11])\n",
      "tensor([[ 4,  5,  6,  7],\n",
      "        [ 8,  9, 10, 11]])\n",
      "tensor(5)\n",
      "tensor([5, 6])\n",
      "tensor([ 8,  9, 10, 11])\n"
     ]
    }
   ],
   "source": [
    "print(x)\n",
    "print(x[-1])\n",
    "print(x[1:3])\n",
    "print(x[1,1])\n",
    "print(x[1,1:3])\n",
    "print(x[2,])\n",
    "\n"
   ]
  },
  {
   "cell_type": "code",
   "execution_count": 48,
   "metadata": {},
   "outputs": [
    {
     "name": "stdout",
     "output_type": "stream",
     "text": [
      "tensor([[[ 0,  1,  2,  3],\n",
      "         [ 4,  5,  6,  7],\n",
      "         [ 8,  9, 10, 11]],\n",
      "\n",
      "        [[12, 12, 12, 12],\n",
      "         [12, 12, 12, 12],\n",
      "         [12, 12, 12, 12]]])\n"
     ]
    }
   ],
   "source": [
    "x=torch.arange(24).reshape(2,3,4)\n",
    "x[1:3]=12\n",
    "print(x)"
   ]
  },
  {
   "cell_type": "code",
   "execution_count": 49,
   "metadata": {},
   "outputs": [
    {
     "name": "stdout",
     "output_type": "stream",
     "text": [
      "idz:2220999240824\n",
      "idz:2220999240824\n"
     ]
    }
   ],
   "source": [
    "z = torch.zeros_like(x)\n",
    "print(f\"idz:{id(z)}\")\n",
    "z[:] = x+z\n",
    "print(f\"idz:{id(z)}\")\n"
   ]
  },
  {
   "cell_type": "code",
   "execution_count": 68,
   "metadata": {},
   "outputs": [
    {
     "name": "stdout",
     "output_type": "stream",
     "text": [
      "[[ 0  1  2  3]\n",
      " [ 4  5  6  7]\n",
      " [ 8  9 10 11]]\n",
      "tensor([[ 0,  1,  2,  3],\n",
      "        [ 4,  5,  6,  7],\n",
      "        [ 8,  9, 10, 11]])\n"
     ]
    }
   ],
   "source": [
    "x=torch.arange(12).reshape(3,4)\n",
    "A=x.numpy()\n",
    "b=torch.from_numpy(A)\n",
    "print(A)\n",
    "print(b)"
   ]
  },
  {
   "cell_type": "code",
   "execution_count": 69,
   "metadata": {},
   "outputs": [
    {
     "name": "stdout",
     "output_type": "stream",
     "text": [
      "A [[500 501 502 503]\n",
      " [504 505 506 507]\n",
      " [508 509 510 511]]\n",
      "b tensor([[500, 501, 502, 503],\n",
      "        [504, 505, 506, 507],\n",
      "        [508, 509, 510, 511]])\n",
      "x tensor([[500, 501, 502, 503],\n",
      "        [504, 505, 506, 507],\n",
      "        [508, 509, 510, 511]])\n"
     ]
    }
   ],
   "source": [
    "A += 500\n",
    "print(\"A\",A)\n",
    "print(\"b\",b)\n",
    "print(\"x\",x)"
   ]
  },
  {
   "cell_type": "code",
   "execution_count": 78,
   "metadata": {},
   "outputs": [
    {
     "name": "stdout",
     "output_type": "stream",
     "text": [
      "torch.Size([1])\n",
      "torch.Size([])\n",
      "<class 'torch.Tensor'>\n"
     ]
    }
   ],
   "source": [
    "a = torch.tensor([3.5])\n",
    "print(a.shape)\n",
    "b = torch.tensor(3.5)\n",
    "print(b.shape)\n",
    "print(type(b))"
   ]
  },
  {
   "cell_type": "code",
   "execution_count": null,
   "metadata": {},
   "outputs": [],
   "source": []
  }
 ],
 "metadata": {
  "kernelspec": {
   "display_name": "class_face",
   "language": "python",
   "name": "python3"
  },
  "language_info": {
   "codemirror_mode": {
    "name": "ipython",
    "version": 3
   },
   "file_extension": ".py",
   "mimetype": "text/x-python",
   "name": "python",
   "nbconvert_exporter": "python",
   "pygments_lexer": "ipython3",
   "version": "3.7.7"
  },
  "orig_nbformat": 4
 },
 "nbformat": 4,
 "nbformat_minor": 2
}
