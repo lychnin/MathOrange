{
 "cells": [
  {
   "cell_type": "code",
   "execution_count": 61,
   "metadata": {},
   "outputs": [],
   "source": [
    "stations={}\n",
    "stations[\"kone\"]=set([\"id\",\"nv\",\"ut\"])\n",
    "stations[\"ktwo\"]=set([\"wa\",\"id\",\"mt\"])\n",
    "stations[\"kthree\"]=set([\"nv\",\"ut\"])\n",
    "stations[\"kfouth\"]=set([\"or\",\"nv\",\"ca\"])\n",
    "stations[\"kfive\"]=set([\"ca\",\"az\"])\n",
    "states_needed = set([\"ca\", \"az\", \"id\", \"nv\", \"ut\", \"wa\", \"id\", \"mt\"])\n",
    "final=[]"
   ]
  },
  {
   "cell_type": "code",
   "execution_count": 62,
   "metadata": {},
   "outputs": [
    {
     "name": "stdout",
     "output_type": "stream",
     "text": [
      "['kone', 'ktwo', 'kfouth', 'kfive']\n"
     ]
    }
   ],
   "source": [
    "'''\n",
    "思路:\n",
    "当没有需要覆盖的州时，就完成了任务，\n",
    "那么只要还存在需要覆盖的州，就选择当前可以覆盖所需的州中最多的电台\n",
    "'''\n",
    "while states_needed:\n",
    "    best = None\n",
    "    states_covered = set()\n",
    "    for station,states in stations.items():\n",
    "        statesOwnNeed=states_needed & states\n",
    "        stationV = len(statesOwnNeed)\n",
    "        if stationV >len(states_covered):\n",
    "            best=station\n",
    "            states_covered = states\n",
    "    states_needed-=states_covered\n",
    "    final.append(best)\n",
    "print(final)"
   ]
  }
 ],
 "metadata": {
  "kernelspec": {
   "display_name": "class_face",
   "language": "python",
   "name": "python3"
  },
  "language_info": {
   "codemirror_mode": {
    "name": "ipython",
    "version": 3
   },
   "file_extension": ".py",
   "mimetype": "text/x-python",
   "name": "python",
   "nbconvert_exporter": "python",
   "pygments_lexer": "ipython3",
   "version": "3.7.7"
  },
  "orig_nbformat": 4
 },
 "nbformat": 4,
 "nbformat_minor": 2
}
